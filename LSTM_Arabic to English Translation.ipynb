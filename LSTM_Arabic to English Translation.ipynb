{
  "nbformat": 4,
  "nbformat_minor": 0,
  "metadata": {
    "colab": {
      "provenance": [],
      "gpuType": "T4"
    },
    "kernelspec": {
      "name": "python3",
      "display_name": "Python 3"
    },
    "language_info": {
      "name": "python"
    },
    "accelerator": "GPU",
    "widgets": {
      "application/vnd.jupyter.widget-state+json": {
        "6436c74cad014d9e94bd3885167e02c2": {
          "model_module": "@jupyter-widgets/controls",
          "model_name": "HBoxModel",
          "model_module_version": "1.5.0",
          "state": {
            "_dom_classes": [],
            "_model_module": "@jupyter-widgets/controls",
            "_model_module_version": "1.5.0",
            "_model_name": "HBoxModel",
            "_view_count": null,
            "_view_module": "@jupyter-widgets/controls",
            "_view_module_version": "1.5.0",
            "_view_name": "HBoxView",
            "box_style": "",
            "children": [
              "IPY_MODEL_656ab87c9d114135beace09389d6b57f",
              "IPY_MODEL_7d1d31ddabc54cebb5035068fe7e07c2",
              "IPY_MODEL_9950ab72627b4b7fb821fe4fecef5ccf"
            ],
            "layout": "IPY_MODEL_801a5cda7f0b4ad29807d7ae22ccfbb7"
          }
        },
        "656ab87c9d114135beace09389d6b57f": {
          "model_module": "@jupyter-widgets/controls",
          "model_name": "HTMLModel",
          "model_module_version": "1.5.0",
          "state": {
            "_dom_classes": [],
            "_model_module": "@jupyter-widgets/controls",
            "_model_module_version": "1.5.0",
            "_model_name": "HTMLModel",
            "_view_count": null,
            "_view_module": "@jupyter-widgets/controls",
            "_view_module_version": "1.5.0",
            "_view_name": "HTMLView",
            "description": "",
            "description_tooltip": null,
            "layout": "IPY_MODEL_a89acf116d1440fc969a7746e21af808",
            "placeholder": "​",
            "style": "IPY_MODEL_106193db14a844aca2e48d8b46fed8b6",
            "value": "README.md: 100%"
          }
        },
        "7d1d31ddabc54cebb5035068fe7e07c2": {
          "model_module": "@jupyter-widgets/controls",
          "model_name": "FloatProgressModel",
          "model_module_version": "1.5.0",
          "state": {
            "_dom_classes": [],
            "_model_module": "@jupyter-widgets/controls",
            "_model_module_version": "1.5.0",
            "_model_name": "FloatProgressModel",
            "_view_count": null,
            "_view_module": "@jupyter-widgets/controls",
            "_view_module_version": "1.5.0",
            "_view_name": "ProgressView",
            "bar_style": "success",
            "description": "",
            "description_tooltip": null,
            "layout": "IPY_MODEL_4aceb0d15309491c9abf1323adc2ff0a",
            "max": 8928,
            "min": 0,
            "orientation": "horizontal",
            "style": "IPY_MODEL_7e7f6bdce33e40e3bc960520b67d4a85",
            "value": 8928
          }
        },
        "9950ab72627b4b7fb821fe4fecef5ccf": {
          "model_module": "@jupyter-widgets/controls",
          "model_name": "HTMLModel",
          "model_module_version": "1.5.0",
          "state": {
            "_dom_classes": [],
            "_model_module": "@jupyter-widgets/controls",
            "_model_module_version": "1.5.0",
            "_model_name": "HTMLModel",
            "_view_count": null,
            "_view_module": "@jupyter-widgets/controls",
            "_view_module_version": "1.5.0",
            "_view_name": "HTMLView",
            "description": "",
            "description_tooltip": null,
            "layout": "IPY_MODEL_764827d0bf1645e7bb4c6c4063a8e1ef",
            "placeholder": "​",
            "style": "IPY_MODEL_06dae98f05e74bdc8b49983d57d7be9b",
            "value": " 8.93k/8.93k [00:00&lt;00:00, 838kB/s]"
          }
        },
        "801a5cda7f0b4ad29807d7ae22ccfbb7": {
          "model_module": "@jupyter-widgets/base",
          "model_name": "LayoutModel",
          "model_module_version": "1.2.0",
          "state": {
            "_model_module": "@jupyter-widgets/base",
            "_model_module_version": "1.2.0",
            "_model_name": "LayoutModel",
            "_view_count": null,
            "_view_module": "@jupyter-widgets/base",
            "_view_module_version": "1.2.0",
            "_view_name": "LayoutView",
            "align_content": null,
            "align_items": null,
            "align_self": null,
            "border": null,
            "bottom": null,
            "display": null,
            "flex": null,
            "flex_flow": null,
            "grid_area": null,
            "grid_auto_columns": null,
            "grid_auto_flow": null,
            "grid_auto_rows": null,
            "grid_column": null,
            "grid_gap": null,
            "grid_row": null,
            "grid_template_areas": null,
            "grid_template_columns": null,
            "grid_template_rows": null,
            "height": null,
            "justify_content": null,
            "justify_items": null,
            "left": null,
            "margin": null,
            "max_height": null,
            "max_width": null,
            "min_height": null,
            "min_width": null,
            "object_fit": null,
            "object_position": null,
            "order": null,
            "overflow": null,
            "overflow_x": null,
            "overflow_y": null,
            "padding": null,
            "right": null,
            "top": null,
            "visibility": null,
            "width": null
          }
        },
        "a89acf116d1440fc969a7746e21af808": {
          "model_module": "@jupyter-widgets/base",
          "model_name": "LayoutModel",
          "model_module_version": "1.2.0",
          "state": {
            "_model_module": "@jupyter-widgets/base",
            "_model_module_version": "1.2.0",
            "_model_name": "LayoutModel",
            "_view_count": null,
            "_view_module": "@jupyter-widgets/base",
            "_view_module_version": "1.2.0",
            "_view_name": "LayoutView",
            "align_content": null,
            "align_items": null,
            "align_self": null,
            "border": null,
            "bottom": null,
            "display": null,
            "flex": null,
            "flex_flow": null,
            "grid_area": null,
            "grid_auto_columns": null,
            "grid_auto_flow": null,
            "grid_auto_rows": null,
            "grid_column": null,
            "grid_gap": null,
            "grid_row": null,
            "grid_template_areas": null,
            "grid_template_columns": null,
            "grid_template_rows": null,
            "height": null,
            "justify_content": null,
            "justify_items": null,
            "left": null,
            "margin": null,
            "max_height": null,
            "max_width": null,
            "min_height": null,
            "min_width": null,
            "object_fit": null,
            "object_position": null,
            "order": null,
            "overflow": null,
            "overflow_x": null,
            "overflow_y": null,
            "padding": null,
            "right": null,
            "top": null,
            "visibility": null,
            "width": null
          }
        },
        "106193db14a844aca2e48d8b46fed8b6": {
          "model_module": "@jupyter-widgets/controls",
          "model_name": "DescriptionStyleModel",
          "model_module_version": "1.5.0",
          "state": {
            "_model_module": "@jupyter-widgets/controls",
            "_model_module_version": "1.5.0",
            "_model_name": "DescriptionStyleModel",
            "_view_count": null,
            "_view_module": "@jupyter-widgets/base",
            "_view_module_version": "1.2.0",
            "_view_name": "StyleView",
            "description_width": ""
          }
        },
        "4aceb0d15309491c9abf1323adc2ff0a": {
          "model_module": "@jupyter-widgets/base",
          "model_name": "LayoutModel",
          "model_module_version": "1.2.0",
          "state": {
            "_model_module": "@jupyter-widgets/base",
            "_model_module_version": "1.2.0",
            "_model_name": "LayoutModel",
            "_view_count": null,
            "_view_module": "@jupyter-widgets/base",
            "_view_module_version": "1.2.0",
            "_view_name": "LayoutView",
            "align_content": null,
            "align_items": null,
            "align_self": null,
            "border": null,
            "bottom": null,
            "display": null,
            "flex": null,
            "flex_flow": null,
            "grid_area": null,
            "grid_auto_columns": null,
            "grid_auto_flow": null,
            "grid_auto_rows": null,
            "grid_column": null,
            "grid_gap": null,
            "grid_row": null,
            "grid_template_areas": null,
            "grid_template_columns": null,
            "grid_template_rows": null,
            "height": null,
            "justify_content": null,
            "justify_items": null,
            "left": null,
            "margin": null,
            "max_height": null,
            "max_width": null,
            "min_height": null,
            "min_width": null,
            "object_fit": null,
            "object_position": null,
            "order": null,
            "overflow": null,
            "overflow_x": null,
            "overflow_y": null,
            "padding": null,
            "right": null,
            "top": null,
            "visibility": null,
            "width": null
          }
        },
        "7e7f6bdce33e40e3bc960520b67d4a85": {
          "model_module": "@jupyter-widgets/controls",
          "model_name": "ProgressStyleModel",
          "model_module_version": "1.5.0",
          "state": {
            "_model_module": "@jupyter-widgets/controls",
            "_model_module_version": "1.5.0",
            "_model_name": "ProgressStyleModel",
            "_view_count": null,
            "_view_module": "@jupyter-widgets/base",
            "_view_module_version": "1.2.0",
            "_view_name": "StyleView",
            "bar_color": null,
            "description_width": ""
          }
        },
        "764827d0bf1645e7bb4c6c4063a8e1ef": {
          "model_module": "@jupyter-widgets/base",
          "model_name": "LayoutModel",
          "model_module_version": "1.2.0",
          "state": {
            "_model_module": "@jupyter-widgets/base",
            "_model_module_version": "1.2.0",
            "_model_name": "LayoutModel",
            "_view_count": null,
            "_view_module": "@jupyter-widgets/base",
            "_view_module_version": "1.2.0",
            "_view_name": "LayoutView",
            "align_content": null,
            "align_items": null,
            "align_self": null,
            "border": null,
            "bottom": null,
            "display": null,
            "flex": null,
            "flex_flow": null,
            "grid_area": null,
            "grid_auto_columns": null,
            "grid_auto_flow": null,
            "grid_auto_rows": null,
            "grid_column": null,
            "grid_gap": null,
            "grid_row": null,
            "grid_template_areas": null,
            "grid_template_columns": null,
            "grid_template_rows": null,
            "height": null,
            "justify_content": null,
            "justify_items": null,
            "left": null,
            "margin": null,
            "max_height": null,
            "max_width": null,
            "min_height": null,
            "min_width": null,
            "object_fit": null,
            "object_position": null,
            "order": null,
            "overflow": null,
            "overflow_x": null,
            "overflow_y": null,
            "padding": null,
            "right": null,
            "top": null,
            "visibility": null,
            "width": null
          }
        },
        "06dae98f05e74bdc8b49983d57d7be9b": {
          "model_module": "@jupyter-widgets/controls",
          "model_name": "DescriptionStyleModel",
          "model_module_version": "1.5.0",
          "state": {
            "_model_module": "@jupyter-widgets/controls",
            "_model_module_version": "1.5.0",
            "_model_name": "DescriptionStyleModel",
            "_view_count": null,
            "_view_module": "@jupyter-widgets/base",
            "_view_module_version": "1.2.0",
            "_view_name": "StyleView",
            "description_width": ""
          }
        },
        "663eed534efe498fbce7eb290c36fcc1": {
          "model_module": "@jupyter-widgets/controls",
          "model_name": "HBoxModel",
          "model_module_version": "1.5.0",
          "state": {
            "_dom_classes": [],
            "_model_module": "@jupyter-widgets/controls",
            "_model_module_version": "1.5.0",
            "_model_name": "HBoxModel",
            "_view_count": null,
            "_view_module": "@jupyter-widgets/controls",
            "_view_module_version": "1.5.0",
            "_view_name": "HBoxView",
            "box_style": "",
            "children": [
              "IPY_MODEL_29944a864ddb4418913428462af421fb",
              "IPY_MODEL_31a9c8ffb5a14835994031ff841590ff",
              "IPY_MODEL_c76bcdd9cf1c4253828a79dc856a5cb8"
            ],
            "layout": "IPY_MODEL_af31c353f6da4625b23f5776206acc85"
          }
        },
        "29944a864ddb4418913428462af421fb": {
          "model_module": "@jupyter-widgets/controls",
          "model_name": "HTMLModel",
          "model_module_version": "1.5.0",
          "state": {
            "_dom_classes": [],
            "_model_module": "@jupyter-widgets/controls",
            "_model_module_version": "1.5.0",
            "_model_name": "HTMLModel",
            "_view_count": null,
            "_view_module": "@jupyter-widgets/controls",
            "_view_module_version": "1.5.0",
            "_view_name": "HTMLView",
            "description": "",
            "description_tooltip": null,
            "layout": "IPY_MODEL_52d40c712b97409586ef07eb48b49d84",
            "placeholder": "​",
            "style": "IPY_MODEL_9deb156b186a482cbce951d53ab44e54",
            "value": "tatoeba.py: 100%"
          }
        },
        "31a9c8ffb5a14835994031ff841590ff": {
          "model_module": "@jupyter-widgets/controls",
          "model_name": "FloatProgressModel",
          "model_module_version": "1.5.0",
          "state": {
            "_dom_classes": [],
            "_model_module": "@jupyter-widgets/controls",
            "_model_module_version": "1.5.0",
            "_model_name": "FloatProgressModel",
            "_view_count": null,
            "_view_module": "@jupyter-widgets/controls",
            "_view_module_version": "1.5.0",
            "_view_name": "ProgressView",
            "bar_style": "success",
            "description": "",
            "description_tooltip": null,
            "layout": "IPY_MODEL_859bf8bf5ac5430f805fe6a451735a26",
            "max": 4407,
            "min": 0,
            "orientation": "horizontal",
            "style": "IPY_MODEL_be2fd202f529486db8709db5d82a4f06",
            "value": 4407
          }
        },
        "c76bcdd9cf1c4253828a79dc856a5cb8": {
          "model_module": "@jupyter-widgets/controls",
          "model_name": "HTMLModel",
          "model_module_version": "1.5.0",
          "state": {
            "_dom_classes": [],
            "_model_module": "@jupyter-widgets/controls",
            "_model_module_version": "1.5.0",
            "_model_name": "HTMLModel",
            "_view_count": null,
            "_view_module": "@jupyter-widgets/controls",
            "_view_module_version": "1.5.0",
            "_view_name": "HTMLView",
            "description": "",
            "description_tooltip": null,
            "layout": "IPY_MODEL_38cb07711b1f40c8ac017430f7f0bcbb",
            "placeholder": "​",
            "style": "IPY_MODEL_80c379061c6742ed87447192593dde50",
            "value": " 4.41k/4.41k [00:00&lt;00:00, 196kB/s]"
          }
        },
        "af31c353f6da4625b23f5776206acc85": {
          "model_module": "@jupyter-widgets/base",
          "model_name": "LayoutModel",
          "model_module_version": "1.2.0",
          "state": {
            "_model_module": "@jupyter-widgets/base",
            "_model_module_version": "1.2.0",
            "_model_name": "LayoutModel",
            "_view_count": null,
            "_view_module": "@jupyter-widgets/base",
            "_view_module_version": "1.2.0",
            "_view_name": "LayoutView",
            "align_content": null,
            "align_items": null,
            "align_self": null,
            "border": null,
            "bottom": null,
            "display": null,
            "flex": null,
            "flex_flow": null,
            "grid_area": null,
            "grid_auto_columns": null,
            "grid_auto_flow": null,
            "grid_auto_rows": null,
            "grid_column": null,
            "grid_gap": null,
            "grid_row": null,
            "grid_template_areas": null,
            "grid_template_columns": null,
            "grid_template_rows": null,
            "height": null,
            "justify_content": null,
            "justify_items": null,
            "left": null,
            "margin": null,
            "max_height": null,
            "max_width": null,
            "min_height": null,
            "min_width": null,
            "object_fit": null,
            "object_position": null,
            "order": null,
            "overflow": null,
            "overflow_x": null,
            "overflow_y": null,
            "padding": null,
            "right": null,
            "top": null,
            "visibility": null,
            "width": null
          }
        },
        "52d40c712b97409586ef07eb48b49d84": {
          "model_module": "@jupyter-widgets/base",
          "model_name": "LayoutModel",
          "model_module_version": "1.2.0",
          "state": {
            "_model_module": "@jupyter-widgets/base",
            "_model_module_version": "1.2.0",
            "_model_name": "LayoutModel",
            "_view_count": null,
            "_view_module": "@jupyter-widgets/base",
            "_view_module_version": "1.2.0",
            "_view_name": "LayoutView",
            "align_content": null,
            "align_items": null,
            "align_self": null,
            "border": null,
            "bottom": null,
            "display": null,
            "flex": null,
            "flex_flow": null,
            "grid_area": null,
            "grid_auto_columns": null,
            "grid_auto_flow": null,
            "grid_auto_rows": null,
            "grid_column": null,
            "grid_gap": null,
            "grid_row": null,
            "grid_template_areas": null,
            "grid_template_columns": null,
            "grid_template_rows": null,
            "height": null,
            "justify_content": null,
            "justify_items": null,
            "left": null,
            "margin": null,
            "max_height": null,
            "max_width": null,
            "min_height": null,
            "min_width": null,
            "object_fit": null,
            "object_position": null,
            "order": null,
            "overflow": null,
            "overflow_x": null,
            "overflow_y": null,
            "padding": null,
            "right": null,
            "top": null,
            "visibility": null,
            "width": null
          }
        },
        "9deb156b186a482cbce951d53ab44e54": {
          "model_module": "@jupyter-widgets/controls",
          "model_name": "DescriptionStyleModel",
          "model_module_version": "1.5.0",
          "state": {
            "_model_module": "@jupyter-widgets/controls",
            "_model_module_version": "1.5.0",
            "_model_name": "DescriptionStyleModel",
            "_view_count": null,
            "_view_module": "@jupyter-widgets/base",
            "_view_module_version": "1.2.0",
            "_view_name": "StyleView",
            "description_width": ""
          }
        },
        "859bf8bf5ac5430f805fe6a451735a26": {
          "model_module": "@jupyter-widgets/base",
          "model_name": "LayoutModel",
          "model_module_version": "1.2.0",
          "state": {
            "_model_module": "@jupyter-widgets/base",
            "_model_module_version": "1.2.0",
            "_model_name": "LayoutModel",
            "_view_count": null,
            "_view_module": "@jupyter-widgets/base",
            "_view_module_version": "1.2.0",
            "_view_name": "LayoutView",
            "align_content": null,
            "align_items": null,
            "align_self": null,
            "border": null,
            "bottom": null,
            "display": null,
            "flex": null,
            "flex_flow": null,
            "grid_area": null,
            "grid_auto_columns": null,
            "grid_auto_flow": null,
            "grid_auto_rows": null,
            "grid_column": null,
            "grid_gap": null,
            "grid_row": null,
            "grid_template_areas": null,
            "grid_template_columns": null,
            "grid_template_rows": null,
            "height": null,
            "justify_content": null,
            "justify_items": null,
            "left": null,
            "margin": null,
            "max_height": null,
            "max_width": null,
            "min_height": null,
            "min_width": null,
            "object_fit": null,
            "object_position": null,
            "order": null,
            "overflow": null,
            "overflow_x": null,
            "overflow_y": null,
            "padding": null,
            "right": null,
            "top": null,
            "visibility": null,
            "width": null
          }
        },
        "be2fd202f529486db8709db5d82a4f06": {
          "model_module": "@jupyter-widgets/controls",
          "model_name": "ProgressStyleModel",
          "model_module_version": "1.5.0",
          "state": {
            "_model_module": "@jupyter-widgets/controls",
            "_model_module_version": "1.5.0",
            "_model_name": "ProgressStyleModel",
            "_view_count": null,
            "_view_module": "@jupyter-widgets/base",
            "_view_module_version": "1.2.0",
            "_view_name": "StyleView",
            "bar_color": null,
            "description_width": ""
          }
        },
        "38cb07711b1f40c8ac017430f7f0bcbb": {
          "model_module": "@jupyter-widgets/base",
          "model_name": "LayoutModel",
          "model_module_version": "1.2.0",
          "state": {
            "_model_module": "@jupyter-widgets/base",
            "_model_module_version": "1.2.0",
            "_model_name": "LayoutModel",
            "_view_count": null,
            "_view_module": "@jupyter-widgets/base",
            "_view_module_version": "1.2.0",
            "_view_name": "LayoutView",
            "align_content": null,
            "align_items": null,
            "align_self": null,
            "border": null,
            "bottom": null,
            "display": null,
            "flex": null,
            "flex_flow": null,
            "grid_area": null,
            "grid_auto_columns": null,
            "grid_auto_flow": null,
            "grid_auto_rows": null,
            "grid_column": null,
            "grid_gap": null,
            "grid_row": null,
            "grid_template_areas": null,
            "grid_template_columns": null,
            "grid_template_rows": null,
            "height": null,
            "justify_content": null,
            "justify_items": null,
            "left": null,
            "margin": null,
            "max_height": null,
            "max_width": null,
            "min_height": null,
            "min_width": null,
            "object_fit": null,
            "object_position": null,
            "order": null,
            "overflow": null,
            "overflow_x": null,
            "overflow_y": null,
            "padding": null,
            "right": null,
            "top": null,
            "visibility": null,
            "width": null
          }
        },
        "80c379061c6742ed87447192593dde50": {
          "model_module": "@jupyter-widgets/controls",
          "model_name": "DescriptionStyleModel",
          "model_module_version": "1.5.0",
          "state": {
            "_model_module": "@jupyter-widgets/controls",
            "_model_module_version": "1.5.0",
            "_model_name": "DescriptionStyleModel",
            "_view_count": null,
            "_view_module": "@jupyter-widgets/base",
            "_view_module_version": "1.2.0",
            "_view_name": "StyleView",
            "description_width": ""
          }
        },
        "a001078516d7418aac92453b1535992c": {
          "model_module": "@jupyter-widgets/controls",
          "model_name": "HBoxModel",
          "model_module_version": "1.5.0",
          "state": {
            "_dom_classes": [],
            "_model_module": "@jupyter-widgets/controls",
            "_model_module_version": "1.5.0",
            "_model_name": "HBoxModel",
            "_view_count": null,
            "_view_module": "@jupyter-widgets/controls",
            "_view_module_version": "1.5.0",
            "_view_name": "HBoxView",
            "box_style": "",
            "children": [
              "IPY_MODEL_3cb4a880cb484742b55b9c6c1f7566ff",
              "IPY_MODEL_f7e1815a03884a6786ff45eac89e7ba3",
              "IPY_MODEL_c90b1a7f098e4f2683a7dce91b7678b2"
            ],
            "layout": "IPY_MODEL_87adb635af8e4ada98bfcba94d9d9a91"
          }
        },
        "3cb4a880cb484742b55b9c6c1f7566ff": {
          "model_module": "@jupyter-widgets/controls",
          "model_name": "HTMLModel",
          "model_module_version": "1.5.0",
          "state": {
            "_dom_classes": [],
            "_model_module": "@jupyter-widgets/controls",
            "_model_module_version": "1.5.0",
            "_model_name": "HTMLModel",
            "_view_count": null,
            "_view_module": "@jupyter-widgets/controls",
            "_view_module_version": "1.5.0",
            "_view_name": "HTMLView",
            "description": "",
            "description_tooltip": null,
            "layout": "IPY_MODEL_de2461dc0e534fe6b855c6cdc4542e9f",
            "placeholder": "​",
            "style": "IPY_MODEL_d9f7d63a32d54757985967864c6dc9e1",
            "value": "Downloading data: 100%"
          }
        },
        "f7e1815a03884a6786ff45eac89e7ba3": {
          "model_module": "@jupyter-widgets/controls",
          "model_name": "FloatProgressModel",
          "model_module_version": "1.5.0",
          "state": {
            "_dom_classes": [],
            "_model_module": "@jupyter-widgets/controls",
            "_model_module_version": "1.5.0",
            "_model_name": "FloatProgressModel",
            "_view_count": null,
            "_view_module": "@jupyter-widgets/controls",
            "_view_module_version": "1.5.0",
            "_view_name": "ProgressView",
            "bar_style": "success",
            "description": "",
            "description_tooltip": null,
            "layout": "IPY_MODEL_6fabaf60c1084365843c46bf7c40e751",
            "max": 912292,
            "min": 0,
            "orientation": "horizontal",
            "style": "IPY_MODEL_6421c1af166d4344a4708a5a23444ce9",
            "value": 912292
          }
        },
        "c90b1a7f098e4f2683a7dce91b7678b2": {
          "model_module": "@jupyter-widgets/controls",
          "model_name": "HTMLModel",
          "model_module_version": "1.5.0",
          "state": {
            "_dom_classes": [],
            "_model_module": "@jupyter-widgets/controls",
            "_model_module_version": "1.5.0",
            "_model_name": "HTMLModel",
            "_view_count": null,
            "_view_module": "@jupyter-widgets/controls",
            "_view_module_version": "1.5.0",
            "_view_name": "HTMLView",
            "description": "",
            "description_tooltip": null,
            "layout": "IPY_MODEL_e4655ff692ae4278be506cecf2914ec2",
            "placeholder": "​",
            "style": "IPY_MODEL_addfa3b93fe046fa90e625b4c52040f1",
            "value": " 912k/912k [00:01&lt;00:00, 1.04MB/s]"
          }
        },
        "87adb635af8e4ada98bfcba94d9d9a91": {
          "model_module": "@jupyter-widgets/base",
          "model_name": "LayoutModel",
          "model_module_version": "1.2.0",
          "state": {
            "_model_module": "@jupyter-widgets/base",
            "_model_module_version": "1.2.0",
            "_model_name": "LayoutModel",
            "_view_count": null,
            "_view_module": "@jupyter-widgets/base",
            "_view_module_version": "1.2.0",
            "_view_name": "LayoutView",
            "align_content": null,
            "align_items": null,
            "align_self": null,
            "border": null,
            "bottom": null,
            "display": null,
            "flex": null,
            "flex_flow": null,
            "grid_area": null,
            "grid_auto_columns": null,
            "grid_auto_flow": null,
            "grid_auto_rows": null,
            "grid_column": null,
            "grid_gap": null,
            "grid_row": null,
            "grid_template_areas": null,
            "grid_template_columns": null,
            "grid_template_rows": null,
            "height": null,
            "justify_content": null,
            "justify_items": null,
            "left": null,
            "margin": null,
            "max_height": null,
            "max_width": null,
            "min_height": null,
            "min_width": null,
            "object_fit": null,
            "object_position": null,
            "order": null,
            "overflow": null,
            "overflow_x": null,
            "overflow_y": null,
            "padding": null,
            "right": null,
            "top": null,
            "visibility": null,
            "width": null
          }
        },
        "de2461dc0e534fe6b855c6cdc4542e9f": {
          "model_module": "@jupyter-widgets/base",
          "model_name": "LayoutModel",
          "model_module_version": "1.2.0",
          "state": {
            "_model_module": "@jupyter-widgets/base",
            "_model_module_version": "1.2.0",
            "_model_name": "LayoutModel",
            "_view_count": null,
            "_view_module": "@jupyter-widgets/base",
            "_view_module_version": "1.2.0",
            "_view_name": "LayoutView",
            "align_content": null,
            "align_items": null,
            "align_self": null,
            "border": null,
            "bottom": null,
            "display": null,
            "flex": null,
            "flex_flow": null,
            "grid_area": null,
            "grid_auto_columns": null,
            "grid_auto_flow": null,
            "grid_auto_rows": null,
            "grid_column": null,
            "grid_gap": null,
            "grid_row": null,
            "grid_template_areas": null,
            "grid_template_columns": null,
            "grid_template_rows": null,
            "height": null,
            "justify_content": null,
            "justify_items": null,
            "left": null,
            "margin": null,
            "max_height": null,
            "max_width": null,
            "min_height": null,
            "min_width": null,
            "object_fit": null,
            "object_position": null,
            "order": null,
            "overflow": null,
            "overflow_x": null,
            "overflow_y": null,
            "padding": null,
            "right": null,
            "top": null,
            "visibility": null,
            "width": null
          }
        },
        "d9f7d63a32d54757985967864c6dc9e1": {
          "model_module": "@jupyter-widgets/controls",
          "model_name": "DescriptionStyleModel",
          "model_module_version": "1.5.0",
          "state": {
            "_model_module": "@jupyter-widgets/controls",
            "_model_module_version": "1.5.0",
            "_model_name": "DescriptionStyleModel",
            "_view_count": null,
            "_view_module": "@jupyter-widgets/base",
            "_view_module_version": "1.2.0",
            "_view_name": "StyleView",
            "description_width": ""
          }
        },
        "6fabaf60c1084365843c46bf7c40e751": {
          "model_module": "@jupyter-widgets/base",
          "model_name": "LayoutModel",
          "model_module_version": "1.2.0",
          "state": {
            "_model_module": "@jupyter-widgets/base",
            "_model_module_version": "1.2.0",
            "_model_name": "LayoutModel",
            "_view_count": null,
            "_view_module": "@jupyter-widgets/base",
            "_view_module_version": "1.2.0",
            "_view_name": "LayoutView",
            "align_content": null,
            "align_items": null,
            "align_self": null,
            "border": null,
            "bottom": null,
            "display": null,
            "flex": null,
            "flex_flow": null,
            "grid_area": null,
            "grid_auto_columns": null,
            "grid_auto_flow": null,
            "grid_auto_rows": null,
            "grid_column": null,
            "grid_gap": null,
            "grid_row": null,
            "grid_template_areas": null,
            "grid_template_columns": null,
            "grid_template_rows": null,
            "height": null,
            "justify_content": null,
            "justify_items": null,
            "left": null,
            "margin": null,
            "max_height": null,
            "max_width": null,
            "min_height": null,
            "min_width": null,
            "object_fit": null,
            "object_position": null,
            "order": null,
            "overflow": null,
            "overflow_x": null,
            "overflow_y": null,
            "padding": null,
            "right": null,
            "top": null,
            "visibility": null,
            "width": null
          }
        },
        "6421c1af166d4344a4708a5a23444ce9": {
          "model_module": "@jupyter-widgets/controls",
          "model_name": "ProgressStyleModel",
          "model_module_version": "1.5.0",
          "state": {
            "_model_module": "@jupyter-widgets/controls",
            "_model_module_version": "1.5.0",
            "_model_name": "ProgressStyleModel",
            "_view_count": null,
            "_view_module": "@jupyter-widgets/base",
            "_view_module_version": "1.2.0",
            "_view_name": "StyleView",
            "bar_color": null,
            "description_width": ""
          }
        },
        "e4655ff692ae4278be506cecf2914ec2": {
          "model_module": "@jupyter-widgets/base",
          "model_name": "LayoutModel",
          "model_module_version": "1.2.0",
          "state": {
            "_model_module": "@jupyter-widgets/base",
            "_model_module_version": "1.2.0",
            "_model_name": "LayoutModel",
            "_view_count": null,
            "_view_module": "@jupyter-widgets/base",
            "_view_module_version": "1.2.0",
            "_view_name": "LayoutView",
            "align_content": null,
            "align_items": null,
            "align_self": null,
            "border": null,
            "bottom": null,
            "display": null,
            "flex": null,
            "flex_flow": null,
            "grid_area": null,
            "grid_auto_columns": null,
            "grid_auto_flow": null,
            "grid_auto_rows": null,
            "grid_column": null,
            "grid_gap": null,
            "grid_row": null,
            "grid_template_areas": null,
            "grid_template_columns": null,
            "grid_template_rows": null,
            "height": null,
            "justify_content": null,
            "justify_items": null,
            "left": null,
            "margin": null,
            "max_height": null,
            "max_width": null,
            "min_height": null,
            "min_width": null,
            "object_fit": null,
            "object_position": null,
            "order": null,
            "overflow": null,
            "overflow_x": null,
            "overflow_y": null,
            "padding": null,
            "right": null,
            "top": null,
            "visibility": null,
            "width": null
          }
        },
        "addfa3b93fe046fa90e625b4c52040f1": {
          "model_module": "@jupyter-widgets/controls",
          "model_name": "DescriptionStyleModel",
          "model_module_version": "1.5.0",
          "state": {
            "_model_module": "@jupyter-widgets/controls",
            "_model_module_version": "1.5.0",
            "_model_name": "DescriptionStyleModel",
            "_view_count": null,
            "_view_module": "@jupyter-widgets/base",
            "_view_module_version": "1.2.0",
            "_view_name": "StyleView",
            "description_width": ""
          }
        },
        "7409ee2000e947658e9ecf618e1aec90": {
          "model_module": "@jupyter-widgets/controls",
          "model_name": "HBoxModel",
          "model_module_version": "1.5.0",
          "state": {
            "_dom_classes": [],
            "_model_module": "@jupyter-widgets/controls",
            "_model_module_version": "1.5.0",
            "_model_name": "HBoxModel",
            "_view_count": null,
            "_view_module": "@jupyter-widgets/controls",
            "_view_module_version": "1.5.0",
            "_view_name": "HBoxView",
            "box_style": "",
            "children": [
              "IPY_MODEL_0ae3abb83242453aaf723e5f79ad45c0",
              "IPY_MODEL_e0f2196ead2945c8b0f1108bd1aa3b7d",
              "IPY_MODEL_8e0e53a8d53e4ad790f5f54eea964f2b"
            ],
            "layout": "IPY_MODEL_eae943c299494bddb4d3c50944c5ef34"
          }
        },
        "0ae3abb83242453aaf723e5f79ad45c0": {
          "model_module": "@jupyter-widgets/controls",
          "model_name": "HTMLModel",
          "model_module_version": "1.5.0",
          "state": {
            "_dom_classes": [],
            "_model_module": "@jupyter-widgets/controls",
            "_model_module_version": "1.5.0",
            "_model_name": "HTMLModel",
            "_view_count": null,
            "_view_module": "@jupyter-widgets/controls",
            "_view_module_version": "1.5.0",
            "_view_name": "HTMLView",
            "description": "",
            "description_tooltip": null,
            "layout": "IPY_MODEL_02856883df3e4c97838dabea0d15f429",
            "placeholder": "​",
            "style": "IPY_MODEL_edcf2006787e444fa99c53d515b43924",
            "value": "Generating train split: "
          }
        },
        "e0f2196ead2945c8b0f1108bd1aa3b7d": {
          "model_module": "@jupyter-widgets/controls",
          "model_name": "FloatProgressModel",
          "model_module_version": "1.5.0",
          "state": {
            "_dom_classes": [],
            "_model_module": "@jupyter-widgets/controls",
            "_model_module_version": "1.5.0",
            "_model_name": "FloatProgressModel",
            "_view_count": null,
            "_view_module": "@jupyter-widgets/controls",
            "_view_module_version": "1.5.0",
            "_view_name": "ProgressView",
            "bar_style": "success",
            "description": "",
            "description_tooltip": null,
            "layout": "IPY_MODEL_583bc9f121f740e4b71ee5b26427aac2",
            "max": 1,
            "min": 0,
            "orientation": "horizontal",
            "style": "IPY_MODEL_d9006902181541a3b3a231515ada39f1",
            "value": 1
          }
        },
        "8e0e53a8d53e4ad790f5f54eea964f2b": {
          "model_module": "@jupyter-widgets/controls",
          "model_name": "HTMLModel",
          "model_module_version": "1.5.0",
          "state": {
            "_dom_classes": [],
            "_model_module": "@jupyter-widgets/controls",
            "_model_module_version": "1.5.0",
            "_model_name": "HTMLModel",
            "_view_count": null,
            "_view_module": "@jupyter-widgets/controls",
            "_view_module_version": "1.5.0",
            "_view_name": "HTMLView",
            "description": "",
            "description_tooltip": null,
            "layout": "IPY_MODEL_4237c255eb4841a8962dac99f0162f57",
            "placeholder": "​",
            "style": "IPY_MODEL_501cf45f2f9246ee8253710667d0dacd",
            "value": " 27905/0 [00:01&lt;00:00, 20616.79 examples/s]"
          }
        },
        "eae943c299494bddb4d3c50944c5ef34": {
          "model_module": "@jupyter-widgets/base",
          "model_name": "LayoutModel",
          "model_module_version": "1.2.0",
          "state": {
            "_model_module": "@jupyter-widgets/base",
            "_model_module_version": "1.2.0",
            "_model_name": "LayoutModel",
            "_view_count": null,
            "_view_module": "@jupyter-widgets/base",
            "_view_module_version": "1.2.0",
            "_view_name": "LayoutView",
            "align_content": null,
            "align_items": null,
            "align_self": null,
            "border": null,
            "bottom": null,
            "display": null,
            "flex": null,
            "flex_flow": null,
            "grid_area": null,
            "grid_auto_columns": null,
            "grid_auto_flow": null,
            "grid_auto_rows": null,
            "grid_column": null,
            "grid_gap": null,
            "grid_row": null,
            "grid_template_areas": null,
            "grid_template_columns": null,
            "grid_template_rows": null,
            "height": null,
            "justify_content": null,
            "justify_items": null,
            "left": null,
            "margin": null,
            "max_height": null,
            "max_width": null,
            "min_height": null,
            "min_width": null,
            "object_fit": null,
            "object_position": null,
            "order": null,
            "overflow": null,
            "overflow_x": null,
            "overflow_y": null,
            "padding": null,
            "right": null,
            "top": null,
            "visibility": null,
            "width": null
          }
        },
        "02856883df3e4c97838dabea0d15f429": {
          "model_module": "@jupyter-widgets/base",
          "model_name": "LayoutModel",
          "model_module_version": "1.2.0",
          "state": {
            "_model_module": "@jupyter-widgets/base",
            "_model_module_version": "1.2.0",
            "_model_name": "LayoutModel",
            "_view_count": null,
            "_view_module": "@jupyter-widgets/base",
            "_view_module_version": "1.2.0",
            "_view_name": "LayoutView",
            "align_content": null,
            "align_items": null,
            "align_self": null,
            "border": null,
            "bottom": null,
            "display": null,
            "flex": null,
            "flex_flow": null,
            "grid_area": null,
            "grid_auto_columns": null,
            "grid_auto_flow": null,
            "grid_auto_rows": null,
            "grid_column": null,
            "grid_gap": null,
            "grid_row": null,
            "grid_template_areas": null,
            "grid_template_columns": null,
            "grid_template_rows": null,
            "height": null,
            "justify_content": null,
            "justify_items": null,
            "left": null,
            "margin": null,
            "max_height": null,
            "max_width": null,
            "min_height": null,
            "min_width": null,
            "object_fit": null,
            "object_position": null,
            "order": null,
            "overflow": null,
            "overflow_x": null,
            "overflow_y": null,
            "padding": null,
            "right": null,
            "top": null,
            "visibility": null,
            "width": null
          }
        },
        "edcf2006787e444fa99c53d515b43924": {
          "model_module": "@jupyter-widgets/controls",
          "model_name": "DescriptionStyleModel",
          "model_module_version": "1.5.0",
          "state": {
            "_model_module": "@jupyter-widgets/controls",
            "_model_module_version": "1.5.0",
            "_model_name": "DescriptionStyleModel",
            "_view_count": null,
            "_view_module": "@jupyter-widgets/base",
            "_view_module_version": "1.2.0",
            "_view_name": "StyleView",
            "description_width": ""
          }
        },
        "583bc9f121f740e4b71ee5b26427aac2": {
          "model_module": "@jupyter-widgets/base",
          "model_name": "LayoutModel",
          "model_module_version": "1.2.0",
          "state": {
            "_model_module": "@jupyter-widgets/base",
            "_model_module_version": "1.2.0",
            "_model_name": "LayoutModel",
            "_view_count": null,
            "_view_module": "@jupyter-widgets/base",
            "_view_module_version": "1.2.0",
            "_view_name": "LayoutView",
            "align_content": null,
            "align_items": null,
            "align_self": null,
            "border": null,
            "bottom": null,
            "display": null,
            "flex": null,
            "flex_flow": null,
            "grid_area": null,
            "grid_auto_columns": null,
            "grid_auto_flow": null,
            "grid_auto_rows": null,
            "grid_column": null,
            "grid_gap": null,
            "grid_row": null,
            "grid_template_areas": null,
            "grid_template_columns": null,
            "grid_template_rows": null,
            "height": null,
            "justify_content": null,
            "justify_items": null,
            "left": null,
            "margin": null,
            "max_height": null,
            "max_width": null,
            "min_height": null,
            "min_width": null,
            "object_fit": null,
            "object_position": null,
            "order": null,
            "overflow": null,
            "overflow_x": null,
            "overflow_y": null,
            "padding": null,
            "right": null,
            "top": null,
            "visibility": null,
            "width": "20px"
          }
        },
        "d9006902181541a3b3a231515ada39f1": {
          "model_module": "@jupyter-widgets/controls",
          "model_name": "ProgressStyleModel",
          "model_module_version": "1.5.0",
          "state": {
            "_model_module": "@jupyter-widgets/controls",
            "_model_module_version": "1.5.0",
            "_model_name": "ProgressStyleModel",
            "_view_count": null,
            "_view_module": "@jupyter-widgets/base",
            "_view_module_version": "1.2.0",
            "_view_name": "StyleView",
            "bar_color": null,
            "description_width": ""
          }
        },
        "4237c255eb4841a8962dac99f0162f57": {
          "model_module": "@jupyter-widgets/base",
          "model_name": "LayoutModel",
          "model_module_version": "1.2.0",
          "state": {
            "_model_module": "@jupyter-widgets/base",
            "_model_module_version": "1.2.0",
            "_model_name": "LayoutModel",
            "_view_count": null,
            "_view_module": "@jupyter-widgets/base",
            "_view_module_version": "1.2.0",
            "_view_name": "LayoutView",
            "align_content": null,
            "align_items": null,
            "align_self": null,
            "border": null,
            "bottom": null,
            "display": null,
            "flex": null,
            "flex_flow": null,
            "grid_area": null,
            "grid_auto_columns": null,
            "grid_auto_flow": null,
            "grid_auto_rows": null,
            "grid_column": null,
            "grid_gap": null,
            "grid_row": null,
            "grid_template_areas": null,
            "grid_template_columns": null,
            "grid_template_rows": null,
            "height": null,
            "justify_content": null,
            "justify_items": null,
            "left": null,
            "margin": null,
            "max_height": null,
            "max_width": null,
            "min_height": null,
            "min_width": null,
            "object_fit": null,
            "object_position": null,
            "order": null,
            "overflow": null,
            "overflow_x": null,
            "overflow_y": null,
            "padding": null,
            "right": null,
            "top": null,
            "visibility": null,
            "width": null
          }
        },
        "501cf45f2f9246ee8253710667d0dacd": {
          "model_module": "@jupyter-widgets/controls",
          "model_name": "DescriptionStyleModel",
          "model_module_version": "1.5.0",
          "state": {
            "_model_module": "@jupyter-widgets/controls",
            "_model_module_version": "1.5.0",
            "_model_name": "DescriptionStyleModel",
            "_view_count": null,
            "_view_module": "@jupyter-widgets/base",
            "_view_module_version": "1.2.0",
            "_view_name": "StyleView",
            "description_width": ""
          }
        }
      }
    }
  },
  "cells": [
    {
      "cell_type": "code",
      "source": [
        "!pip install --upgrade datasets"
      ],
      "metadata": {
        "id": "L8kCHTOsuyyR",
        "colab": {
          "base_uri": "https://localhost:8080/"
        },
        "outputId": "0973700d-449d-43c4-ce40-8b9fd3f9d6f1"
      },
      "execution_count": 1,
      "outputs": [
        {
          "output_type": "stream",
          "name": "stdout",
          "text": [
            "Requirement already satisfied: datasets in /usr/local/lib/python3.11/dist-packages (2.14.4)\n",
            "Collecting datasets\n",
            "  Downloading datasets-3.6.0-py3-none-any.whl.metadata (19 kB)\n",
            "Requirement already satisfied: filelock in /usr/local/lib/python3.11/dist-packages (from datasets) (3.18.0)\n",
            "Requirement already satisfied: numpy>=1.17 in /usr/local/lib/python3.11/dist-packages (from datasets) (2.0.2)\n",
            "Requirement already satisfied: pyarrow>=15.0.0 in /usr/local/lib/python3.11/dist-packages (from datasets) (18.1.0)\n",
            "Requirement already satisfied: dill<0.3.9,>=0.3.0 in /usr/local/lib/python3.11/dist-packages (from datasets) (0.3.7)\n",
            "Requirement already satisfied: pandas in /usr/local/lib/python3.11/dist-packages (from datasets) (2.2.2)\n",
            "Requirement already satisfied: requests>=2.32.2 in /usr/local/lib/python3.11/dist-packages (from datasets) (2.32.3)\n",
            "Requirement already satisfied: tqdm>=4.66.3 in /usr/local/lib/python3.11/dist-packages (from datasets) (4.67.1)\n",
            "Requirement already satisfied: xxhash in /usr/local/lib/python3.11/dist-packages (from datasets) (3.5.0)\n",
            "Requirement already satisfied: multiprocess<0.70.17 in /usr/local/lib/python3.11/dist-packages (from datasets) (0.70.15)\n",
            "Collecting fsspec<=2025.3.0,>=2023.1.0 (from fsspec[http]<=2025.3.0,>=2023.1.0->datasets)\n",
            "  Downloading fsspec-2025.3.0-py3-none-any.whl.metadata (11 kB)\n",
            "Requirement already satisfied: huggingface-hub>=0.24.0 in /usr/local/lib/python3.11/dist-packages (from datasets) (0.31.1)\n",
            "Requirement already satisfied: packaging in /usr/local/lib/python3.11/dist-packages (from datasets) (24.2)\n",
            "Requirement already satisfied: pyyaml>=5.1 in /usr/local/lib/python3.11/dist-packages (from datasets) (6.0.2)\n",
            "Requirement already satisfied: aiohttp!=4.0.0a0,!=4.0.0a1 in /usr/local/lib/python3.11/dist-packages (from fsspec[http]<=2025.3.0,>=2023.1.0->datasets) (3.11.15)\n",
            "Requirement already satisfied: typing-extensions>=3.7.4.3 in /usr/local/lib/python3.11/dist-packages (from huggingface-hub>=0.24.0->datasets) (4.13.2)\n",
            "Requirement already satisfied: hf-xet<2.0.0,>=1.1.0 in /usr/local/lib/python3.11/dist-packages (from huggingface-hub>=0.24.0->datasets) (1.1.0)\n",
            "Requirement already satisfied: charset-normalizer<4,>=2 in /usr/local/lib/python3.11/dist-packages (from requests>=2.32.2->datasets) (3.4.2)\n",
            "Requirement already satisfied: idna<4,>=2.5 in /usr/local/lib/python3.11/dist-packages (from requests>=2.32.2->datasets) (3.10)\n",
            "Requirement already satisfied: urllib3<3,>=1.21.1 in /usr/local/lib/python3.11/dist-packages (from requests>=2.32.2->datasets) (2.4.0)\n",
            "Requirement already satisfied: certifi>=2017.4.17 in /usr/local/lib/python3.11/dist-packages (from requests>=2.32.2->datasets) (2025.4.26)\n",
            "Requirement already satisfied: python-dateutil>=2.8.2 in /usr/local/lib/python3.11/dist-packages (from pandas->datasets) (2.9.0.post0)\n",
            "Requirement already satisfied: pytz>=2020.1 in /usr/local/lib/python3.11/dist-packages (from pandas->datasets) (2025.2)\n",
            "Requirement already satisfied: tzdata>=2022.7 in /usr/local/lib/python3.11/dist-packages (from pandas->datasets) (2025.2)\n",
            "Requirement already satisfied: aiohappyeyeballs>=2.3.0 in /usr/local/lib/python3.11/dist-packages (from aiohttp!=4.0.0a0,!=4.0.0a1->fsspec[http]<=2025.3.0,>=2023.1.0->datasets) (2.6.1)\n",
            "Requirement already satisfied: aiosignal>=1.1.2 in /usr/local/lib/python3.11/dist-packages (from aiohttp!=4.0.0a0,!=4.0.0a1->fsspec[http]<=2025.3.0,>=2023.1.0->datasets) (1.3.2)\n",
            "Requirement already satisfied: attrs>=17.3.0 in /usr/local/lib/python3.11/dist-packages (from aiohttp!=4.0.0a0,!=4.0.0a1->fsspec[http]<=2025.3.0,>=2023.1.0->datasets) (25.3.0)\n",
            "Requirement already satisfied: frozenlist>=1.1.1 in /usr/local/lib/python3.11/dist-packages (from aiohttp!=4.0.0a0,!=4.0.0a1->fsspec[http]<=2025.3.0,>=2023.1.0->datasets) (1.6.0)\n",
            "Requirement already satisfied: multidict<7.0,>=4.5 in /usr/local/lib/python3.11/dist-packages (from aiohttp!=4.0.0a0,!=4.0.0a1->fsspec[http]<=2025.3.0,>=2023.1.0->datasets) (6.4.3)\n",
            "Requirement already satisfied: propcache>=0.2.0 in /usr/local/lib/python3.11/dist-packages (from aiohttp!=4.0.0a0,!=4.0.0a1->fsspec[http]<=2025.3.0,>=2023.1.0->datasets) (0.3.1)\n",
            "Requirement already satisfied: yarl<2.0,>=1.17.0 in /usr/local/lib/python3.11/dist-packages (from aiohttp!=4.0.0a0,!=4.0.0a1->fsspec[http]<=2025.3.0,>=2023.1.0->datasets) (1.20.0)\n",
            "Requirement already satisfied: six>=1.5 in /usr/local/lib/python3.11/dist-packages (from python-dateutil>=2.8.2->pandas->datasets) (1.17.0)\n",
            "Downloading datasets-3.6.0-py3-none-any.whl (491 kB)\n",
            "\u001b[2K   \u001b[90m━━━━━━━━━━━━━━━━━━━━━━━━━━━━━━━━━━━━━━━━\u001b[0m \u001b[32m491.5/491.5 kB\u001b[0m \u001b[31m10.4 MB/s\u001b[0m eta \u001b[36m0:00:00\u001b[0m\n",
            "\u001b[?25hDownloading fsspec-2025.3.0-py3-none-any.whl (193 kB)\n",
            "\u001b[2K   \u001b[90m━━━━━━━━━━━━━━━━━━━━━━━━━━━━━━━━━━━━━━━━\u001b[0m \u001b[32m193.6/193.6 kB\u001b[0m \u001b[31m10.4 MB/s\u001b[0m eta \u001b[36m0:00:00\u001b[0m\n",
            "\u001b[?25hInstalling collected packages: fsspec, datasets\n",
            "  Attempting uninstall: fsspec\n",
            "    Found existing installation: fsspec 2025.3.2\n",
            "    Uninstalling fsspec-2025.3.2:\n",
            "      Successfully uninstalled fsspec-2025.3.2\n",
            "  Attempting uninstall: datasets\n",
            "    Found existing installation: datasets 2.14.4\n",
            "    Uninstalling datasets-2.14.4:\n",
            "      Successfully uninstalled datasets-2.14.4\n",
            "\u001b[31mERROR: pip's dependency resolver does not currently take into account all the packages that are installed. This behaviour is the source of the following dependency conflicts.\n",
            "torch 2.6.0+cu124 requires nvidia-cublas-cu12==12.4.5.8; platform_system == \"Linux\" and platform_machine == \"x86_64\", but you have nvidia-cublas-cu12 12.5.3.2 which is incompatible.\n",
            "torch 2.6.0+cu124 requires nvidia-cuda-cupti-cu12==12.4.127; platform_system == \"Linux\" and platform_machine == \"x86_64\", but you have nvidia-cuda-cupti-cu12 12.5.82 which is incompatible.\n",
            "torch 2.6.0+cu124 requires nvidia-cuda-nvrtc-cu12==12.4.127; platform_system == \"Linux\" and platform_machine == \"x86_64\", but you have nvidia-cuda-nvrtc-cu12 12.5.82 which is incompatible.\n",
            "torch 2.6.0+cu124 requires nvidia-cuda-runtime-cu12==12.4.127; platform_system == \"Linux\" and platform_machine == \"x86_64\", but you have nvidia-cuda-runtime-cu12 12.5.82 which is incompatible.\n",
            "torch 2.6.0+cu124 requires nvidia-cudnn-cu12==9.1.0.70; platform_system == \"Linux\" and platform_machine == \"x86_64\", but you have nvidia-cudnn-cu12 9.3.0.75 which is incompatible.\n",
            "torch 2.6.0+cu124 requires nvidia-cufft-cu12==11.2.1.3; platform_system == \"Linux\" and platform_machine == \"x86_64\", but you have nvidia-cufft-cu12 11.2.3.61 which is incompatible.\n",
            "torch 2.6.0+cu124 requires nvidia-curand-cu12==10.3.5.147; platform_system == \"Linux\" and platform_machine == \"x86_64\", but you have nvidia-curand-cu12 10.3.6.82 which is incompatible.\n",
            "torch 2.6.0+cu124 requires nvidia-cusolver-cu12==11.6.1.9; platform_system == \"Linux\" and platform_machine == \"x86_64\", but you have nvidia-cusolver-cu12 11.6.3.83 which is incompatible.\n",
            "torch 2.6.0+cu124 requires nvidia-cusparse-cu12==12.3.1.170; platform_system == \"Linux\" and platform_machine == \"x86_64\", but you have nvidia-cusparse-cu12 12.5.1.3 which is incompatible.\n",
            "torch 2.6.0+cu124 requires nvidia-nvjitlink-cu12==12.4.127; platform_system == \"Linux\" and platform_machine == \"x86_64\", but you have nvidia-nvjitlink-cu12 12.5.82 which is incompatible.\n",
            "gcsfs 2025.3.2 requires fsspec==2025.3.2, but you have fsspec 2025.3.0 which is incompatible.\u001b[0m\u001b[31m\n",
            "\u001b[0mSuccessfully installed datasets-3.6.0 fsspec-2025.3.0\n"
          ]
        }
      ]
    },
    {
      "cell_type": "code",
      "execution_count": 2,
      "metadata": {
        "id": "F7TZbVc5t6Lr",
        "colab": {
          "base_uri": "https://localhost:8080/"
        },
        "outputId": "e19a760d-bd71-44dd-c563-94ad6ef3a680"
      },
      "outputs": [
        {
          "output_type": "stream",
          "name": "stderr",
          "text": [
            "[nltk_data] Downloading package punkt_tab to /root/nltk_data...\n",
            "[nltk_data]   Unzipping tokenizers/punkt_tab.zip.\n"
          ]
        }
      ],
      "source": [
        "import pandas as pd\n",
        "import numpy as np\n",
        "import matplotlib.pyplot as plt\n",
        "import seaborn as sns\n",
        "import torch\n",
        "from torch import nn\n",
        "from torch.utils.data import DataLoader,Dataset\n",
        "from torchvision.transforms import ToTensor\n",
        "from datasets import load_dataset\n",
        "import re\n",
        "import nltk\n",
        "from nltk.tokenize import word_tokenize\n",
        "nltk.download('punkt_tab')\n",
        "from tqdm import tqdm\n",
        "from collections import Counter\n",
        "import random\n",
        "from nltk.translate.bleu_score import sentence_bleu, corpus_bleu\n",
        "from matplotlib import pyplot as plt\n",
        "import warnings\n",
        "warnings.filterwarnings('ignore')\n"
      ]
    },
    {
      "cell_type": "markdown",
      "source": [
        "## Dataset Loading"
      ],
      "metadata": {
        "id": "y3D0bmt40_Yu"
      }
    },
    {
      "cell_type": "code",
      "source": [
        "dataset = load_dataset(\"tatoeba\", lang1=\"ar\", lang2=\"en\")"
      ],
      "metadata": {
        "id": "0wDK2Eewz81i",
        "colab": {
          "base_uri": "https://localhost:8080/",
          "height": 214,
          "referenced_widgets": [
            "6436c74cad014d9e94bd3885167e02c2",
            "656ab87c9d114135beace09389d6b57f",
            "7d1d31ddabc54cebb5035068fe7e07c2",
            "9950ab72627b4b7fb821fe4fecef5ccf",
            "801a5cda7f0b4ad29807d7ae22ccfbb7",
            "a89acf116d1440fc969a7746e21af808",
            "106193db14a844aca2e48d8b46fed8b6",
            "4aceb0d15309491c9abf1323adc2ff0a",
            "7e7f6bdce33e40e3bc960520b67d4a85",
            "764827d0bf1645e7bb4c6c4063a8e1ef",
            "06dae98f05e74bdc8b49983d57d7be9b",
            "663eed534efe498fbce7eb290c36fcc1",
            "29944a864ddb4418913428462af421fb",
            "31a9c8ffb5a14835994031ff841590ff",
            "c76bcdd9cf1c4253828a79dc856a5cb8",
            "af31c353f6da4625b23f5776206acc85",
            "52d40c712b97409586ef07eb48b49d84",
            "9deb156b186a482cbce951d53ab44e54",
            "859bf8bf5ac5430f805fe6a451735a26",
            "be2fd202f529486db8709db5d82a4f06",
            "38cb07711b1f40c8ac017430f7f0bcbb",
            "80c379061c6742ed87447192593dde50",
            "a001078516d7418aac92453b1535992c",
            "3cb4a880cb484742b55b9c6c1f7566ff",
            "f7e1815a03884a6786ff45eac89e7ba3",
            "c90b1a7f098e4f2683a7dce91b7678b2",
            "87adb635af8e4ada98bfcba94d9d9a91",
            "de2461dc0e534fe6b855c6cdc4542e9f",
            "d9f7d63a32d54757985967864c6dc9e1",
            "6fabaf60c1084365843c46bf7c40e751",
            "6421c1af166d4344a4708a5a23444ce9",
            "e4655ff692ae4278be506cecf2914ec2",
            "addfa3b93fe046fa90e625b4c52040f1",
            "7409ee2000e947658e9ecf618e1aec90",
            "0ae3abb83242453aaf723e5f79ad45c0",
            "e0f2196ead2945c8b0f1108bd1aa3b7d",
            "8e0e53a8d53e4ad790f5f54eea964f2b",
            "eae943c299494bddb4d3c50944c5ef34",
            "02856883df3e4c97838dabea0d15f429",
            "edcf2006787e444fa99c53d515b43924",
            "583bc9f121f740e4b71ee5b26427aac2",
            "d9006902181541a3b3a231515ada39f1",
            "4237c255eb4841a8962dac99f0162f57",
            "501cf45f2f9246ee8253710667d0dacd"
          ]
        },
        "outputId": "bb1ae4af-f660-4f47-88db-381c5264d8ff"
      },
      "execution_count": 3,
      "outputs": [
        {
          "output_type": "display_data",
          "data": {
            "text/plain": [
              "README.md:   0%|          | 0.00/8.93k [00:00<?, ?B/s]"
            ],
            "application/vnd.jupyter.widget-view+json": {
              "version_major": 2,
              "version_minor": 0,
              "model_id": "6436c74cad014d9e94bd3885167e02c2"
            }
          },
          "metadata": {}
        },
        {
          "output_type": "display_data",
          "data": {
            "text/plain": [
              "tatoeba.py:   0%|          | 0.00/4.41k [00:00<?, ?B/s]"
            ],
            "application/vnd.jupyter.widget-view+json": {
              "version_major": 2,
              "version_minor": 0,
              "model_id": "663eed534efe498fbce7eb290c36fcc1"
            }
          },
          "metadata": {}
        },
        {
          "name": "stdout",
          "output_type": "stream",
          "text": [
            "The repository for tatoeba contains custom code which must be executed to correctly load the dataset. You can inspect the repository content at https://hf.co/datasets/tatoeba.\n",
            "You can avoid this prompt in future by passing the argument `trust_remote_code=True`.\n",
            "\n",
            "Do you wish to run the custom code? [y/N] y\n"
          ]
        },
        {
          "output_type": "display_data",
          "data": {
            "text/plain": [
              "Downloading data:   0%|          | 0.00/912k [00:00<?, ?B/s]"
            ],
            "application/vnd.jupyter.widget-view+json": {
              "version_major": 2,
              "version_minor": 0,
              "model_id": "a001078516d7418aac92453b1535992c"
            }
          },
          "metadata": {}
        },
        {
          "output_type": "display_data",
          "data": {
            "text/plain": [
              "Generating train split: 0 examples [00:00, ? examples/s]"
            ],
            "application/vnd.jupyter.widget-view+json": {
              "version_major": 2,
              "version_minor": 0,
              "model_id": "7409ee2000e947658e9ecf618e1aec90"
            }
          },
          "metadata": {}
        }
      ]
    },
    {
      "cell_type": "code",
      "source": [
        "dataset.keys()"
      ],
      "metadata": {
        "colab": {
          "base_uri": "https://localhost:8080/"
        },
        "id": "sGFx0hdN3IgU",
        "outputId": "1deae6fc-bdba-4434-b33b-0b568a3f0c8e"
      },
      "execution_count": 4,
      "outputs": [
        {
          "output_type": "execute_result",
          "data": {
            "text/plain": [
              "dict_keys(['train'])"
            ]
          },
          "metadata": {},
          "execution_count": 4
        }
      ]
    },
    {
      "cell_type": "code",
      "source": [
        "dataset.shape"
      ],
      "metadata": {
        "colab": {
          "base_uri": "https://localhost:8080/"
        },
        "id": "lSqIt2sl4WIq",
        "outputId": "724a7fe1-7b19-425a-db7b-bd7ed588ac1d"
      },
      "execution_count": 5,
      "outputs": [
        {
          "output_type": "execute_result",
          "data": {
            "text/plain": [
              "{'train': (27905, 2)}"
            ]
          },
          "metadata": {},
          "execution_count": 5
        }
      ]
    },
    {
      "cell_type": "markdown",
      "source": [
        "## Spliting dataset"
      ],
      "metadata": {
        "id": "qk6mAP3KJBi_"
      }
    },
    {
      "cell_type": "code",
      "source": [
        "train_valtest=dataset['train'].train_test_split(test_size=0.2,seed=42)\n",
        "val_test=train_valtest['test'].train_test_split(test_size=0.5,seed=42)\n",
        "train_data=train_valtest['train']\n",
        "val_data=val_test['train']\n",
        "test_data=val_test['test']"
      ],
      "metadata": {
        "id": "9G1Onui_1PRU"
      },
      "execution_count": 6,
      "outputs": []
    },
    {
      "cell_type": "code",
      "source": [
        "print(f'train_data: {train_data.shape}')\n",
        "print(f'val_data: {val_data.shape}')\n",
        "print(f'test_data: {test_data.shape}')"
      ],
      "metadata": {
        "colab": {
          "base_uri": "https://localhost:8080/"
        },
        "id": "jSW655rS5rvt",
        "outputId": "06f42cd9-90be-4237-d527-f0fa2b14f7bd"
      },
      "execution_count": 7,
      "outputs": [
        {
          "output_type": "stream",
          "name": "stdout",
          "text": [
            "train_data: (22324, 2)\n",
            "val_data: (2790, 2)\n",
            "test_data: (2791, 2)\n"
          ]
        }
      ]
    },
    {
      "cell_type": "code",
      "source": [
        "print(train_data['translation'][0]['ar'])"
      ],
      "metadata": {
        "colab": {
          "base_uri": "https://localhost:8080/"
        },
        "id": "3wO0_hHtuseq",
        "outputId": "23b08499-640f-40b7-f97d-46541f5d83ce"
      },
      "execution_count": 8,
      "outputs": [
        {
          "output_type": "stream",
          "name": "stdout",
          "text": [
            "هل ترى ما أعني؟\n"
          ]
        }
      ]
    },
    {
      "cell_type": "markdown",
      "source": [
        "## Text Preprocessing & Tokenization"
      ],
      "metadata": {
        "id": "fZFMiHUpJOV1"
      }
    },
    {
      "cell_type": "code",
      "source": [
        "def preprocess_arabic_text(text):\n",
        "  # Remove diacritics\n",
        "  arabic_diacritics = re.compile(r'[\\u0617-\\u061A\\u064B-\\u0652]')\n",
        "  text = re.sub(arabic_diacritics, '', text)\n",
        "  # Remove Tatweel (Kashida)\n",
        "  text = re.sub(r'ـ+', '', text)\n",
        "    # Normalize letters\n",
        "  replacements = {\n",
        "        'أ': 'ا',\n",
        "        'إ': 'ا',\n",
        "        'آ': 'ا',\n",
        "        'ى': 'ي',\n",
        "        'ؤ': 'ء',\n",
        "        'ئ': 'ء',\n",
        "        'ة': 'ه',\n",
        "        'گ': 'ك',\n",
        "    }\n",
        "  for src, target in replacements.items():\n",
        "      text = text.replace(src, target)\n",
        "\n",
        "  text=re.sub(r'[^\\w\\s]','',text)\n",
        "  text=re.sub(r'\\s+',' ',text).strip()\n",
        "  tokens=word_tokenize(text)\n",
        "  return tokens\n",
        "\n",
        "\n",
        "def preprocess_english_text(text):\n",
        "  text=text.lower()\n",
        "  text=re.sub(r'[^\\w\\s]','',text)\n",
        "  text=re.sub(r'\\s+',' ',text).strip()\n",
        "  tokens=word_tokenize(text)\n",
        "  return tokens\n"
      ],
      "metadata": {
        "id": "CI3fRnv-z1TZ"
      },
      "execution_count": 9,
      "outputs": []
    },
    {
      "cell_type": "code",
      "source": [
        "train_input=[]\n",
        "train_target=[]\n",
        "for sample in tqdm(train_data['translation']):\n",
        "  train_input.append(preprocess_arabic_text(sample['ar']))\n",
        "  train_target.append(preprocess_english_text(sample['en']))\n",
        "\n",
        "\n",
        "val_input=[]\n",
        "val_target=[]\n",
        "for sample in tqdm(val_data['translation']):\n",
        "  val_input.append(preprocess_arabic_text(sample['ar']))\n",
        "  val_target.append(preprocess_english_text(sample['en']))\n",
        "\n",
        "test_input=[]\n",
        "test_target=[]\n",
        "for sample in tqdm(test_data['translation']):\n",
        "  test_input.append(preprocess_arabic_text(sample['ar']))\n",
        "  test_target.append(preprocess_english_text(sample['en']))\n"
      ],
      "metadata": {
        "colab": {
          "base_uri": "https://localhost:8080/"
        },
        "id": "88OQVii0YDRX",
        "outputId": "79704eed-b406-4217-d187-56a74b5f14da"
      },
      "execution_count": 10,
      "outputs": [
        {
          "output_type": "stream",
          "name": "stderr",
          "text": [
            "100%|██████████| 22324/22324 [00:03<00:00, 7160.07it/s]\n",
            "100%|██████████| 2790/2790 [00:00<00:00, 4256.84it/s]\n",
            "100%|██████████| 2791/2791 [00:00<00:00, 4605.44it/s]\n"
          ]
        }
      ]
    },
    {
      "cell_type": "code",
      "source": [
        "print(train_input[0])\n",
        "print(train_target[0])"
      ],
      "metadata": {
        "colab": {
          "base_uri": "https://localhost:8080/"
        },
        "id": "lYpIEbWGZpfv",
        "outputId": "7d5410d1-fabb-4144-87e0-71fc6b4eb33f"
      },
      "execution_count": 11,
      "outputs": [
        {
          "output_type": "stream",
          "name": "stdout",
          "text": [
            "['هل', 'تري', 'ما', 'اعني']\n",
            "['do', 'you', 'see', 'what', 'i', 'mean']\n"
          ]
        }
      ]
    },
    {
      "cell_type": "markdown",
      "source": [
        "## Vocabulary Building"
      ],
      "metadata": {
        "id": "kt6uAsbUaKRQ"
      }
    },
    {
      "cell_type": "code",
      "source": [
        "def build_arabic_vocab(input,max_words=10000):\n",
        "  word_count=Counter()\n",
        "  for sentence in input:\n",
        "    word_count.update(sentence)\n",
        "  most_common = word_count.most_common(max_words-2)\n",
        "  vocab={word:idx+2 for idx,(word,_) in enumerate(most_common)}\n",
        "  vocab['<PAD>'] = 0\n",
        "  vocab['<UNK>'] = 1\n",
        "  return vocab"
      ],
      "metadata": {
        "id": "Peenel9g-Itq"
      },
      "execution_count": 12,
      "outputs": []
    },
    {
      "cell_type": "code",
      "source": [
        "def build_english_vocab(input,max_words=10000):\n",
        "  word_count=Counter()\n",
        "  for sentence in input:\n",
        "    word_count.update(sentence)\n",
        "\n",
        "  most_common = word_count.most_common(max_words-4)\n",
        "  vocab={word:idx+4 for idx,(word,_) in enumerate(most_common)}\n",
        "  vocab['<PAD>'] = 0\n",
        "  vocab['<UNK>'] = 1\n",
        "  vocab['<BOS>'] = 2\n",
        "  vocab['<EOS>'] = 3\n",
        "\n",
        "  return vocab\n"
      ],
      "metadata": {
        "id": "rPfSHiWTaBt0"
      },
      "execution_count": 13,
      "outputs": []
    },
    {
      "cell_type": "code",
      "source": [
        "arabic_vocab=build_arabic_vocab(train_input)\n",
        "english_vocab=build_english_vocab(train_target)\n",
        "print(len(arabic_vocab))\n",
        "print(len(english_vocab))"
      ],
      "metadata": {
        "colab": {
          "base_uri": "https://localhost:8080/"
        },
        "id": "lnS8i0i2gXiO",
        "outputId": "d3ceb73b-7839-4264-b84d-2cfd8869963c"
      },
      "execution_count": 14,
      "outputs": [
        {
          "output_type": "stream",
          "name": "stdout",
          "text": [
            "10000\n",
            "8366\n"
          ]
        }
      ]
    },
    {
      "cell_type": "markdown",
      "source": [
        "## Data Encoding"
      ],
      "metadata": {
        "id": "2VgkodRyhmx8"
      }
    },
    {
      "cell_type": "code",
      "source": [
        "def plot_distribution(data):\n",
        "  lengths = [len(sentence) for sentence in data]\n",
        "  max_length = max(lengths)\n",
        "  mean_length = np.mean(lengths)\n",
        "  median_length = np.median(lengths)\n",
        "  p95_length = np.percentile(lengths, 95)\n",
        "\n",
        "  print(f\"Maximum sentence length: {max_length}\")\n",
        "  print(f\"Mean sentence length: {mean_length:.2f}\")\n",
        "  print(f\"Median sentence length: {median_length}\")\n",
        "  print(f\"95th percentile length: {p95_length}\")\n",
        "\n",
        "  plt.figure(figsize=(10, 6))\n",
        "  plt.hist(lengths, bins=50)\n",
        "  plt.axvline(x=max_length, color='r', linestyle='--', label=f'Max: {max_length}')\n",
        "  plt.axvline(x=p95_length, color='g', linestyle='--', label=f'95th: {p95_length:.0f}')\n",
        "  plt.axvline(x=median_length, color='b', linestyle='--', label=f'Median: {median_length}')\n",
        "  plt.title(\"Distribution of sentence Lengths\")\n",
        "  plt.xlabel(\"Length (number of tokens)\")\n",
        "  plt.ylabel(\"Count\")\n",
        "  plt.legend()\n",
        "  plt.grid(True, alpha=0.3)\n",
        "  plt.show()\n",
        "\n",
        "  truncated_count= sum(1 for length in lengths if length > p95_length )\n",
        "  truncated_percentage = (truncated_count / len(lengths)) * 100\n",
        "  print(f\"Number of sentences truncated: {truncated_count}\")\n",
        "  print(f\"Percentage of sentences truncated: {truncated_percentage:.2f}%\")\n",
        "  return p95_length\n"
      ],
      "metadata": {
        "id": "3tZWEL2IoTb-"
      },
      "execution_count": 15,
      "outputs": []
    },
    {
      "cell_type": "code",
      "source": [
        "arabic_length=plot_distribution(train_input)"
      ],
      "metadata": {
        "colab": {
          "base_uri": "https://localhost:8080/",
          "height": 668
        },
        "id": "--UiYYA3hKbw",
        "outputId": "bb12f9a4-17ec-438f-c128-5be68313c7ad"
      },
      "execution_count": 16,
      "outputs": [
        {
          "output_type": "stream",
          "name": "stdout",
          "text": [
            "Maximum sentence length: 142\n",
            "Mean sentence length: 5.09\n",
            "Median sentence length: 4.0\n",
            "95th percentile length: 10.0\n"
          ]
        },
        {
          "output_type": "display_data",
          "data": {
            "text/plain": [
              "<Figure size 1000x600 with 1 Axes>"
            ],
            "image/png": "[encoded data removed]"
          },
          "metadata": {}
        },
        {
          "output_type": "stream",
          "name": "stdout",
          "text": [
            "Number of sentences truncated: 844\n",
            "Percentage of sentences truncated: 3.78%\n"
          ]
        }
      ]
    },
    {
      "cell_type": "code",
      "source": [
        "english_length=plot_distribution(train_target)"
      ],
      "metadata": {
        "colab": {
          "base_uri": "https://localhost:8080/",
          "height": 668
        },
        "id": "7Lp47qmZjHDv",
        "outputId": "9e64a96f-9dea-4dc7-c51a-17195e43748e"
      },
      "execution_count": 17,
      "outputs": [
        {
          "output_type": "stream",
          "name": "stdout",
          "text": [
            "Maximum sentence length: 205\n",
            "Mean sentence length: 6.34\n",
            "Median sentence length: 6.0\n",
            "95th percentile length: 12.0\n"
          ]
        },
        {
          "output_type": "display_data",
          "data": {
            "text/plain": [
              "<Figure size 1000x600 with 1 Axes>"
            ],
            "image/png": "[encoded data removed]"
          },
          "metadata": {}
        },
        {
          "output_type": "stream",
          "name": "stdout",
          "text": [
            "Number of sentences truncated: 889\n",
            "Percentage of sentences truncated: 3.98%\n"
          ]
        }
      ]
    },
    {
      "cell_type": "code",
      "source": [
        "def encode_arabic_sentence(sentence,vocab,max_length):\n",
        "  max_length=int(max_length)\n",
        "  encoded_sentence=[]\n",
        "  for word in sentence:\n",
        "    if word in vocab:\n",
        "      encoded_sentence.append(vocab[word])\n",
        "    else:\n",
        "      encoded_sentence.append(vocab['<UNK>'])\n",
        "  encoded_sentence=encoded_sentence[:max_length]\n",
        "  if len(encoded_sentence)<max_length:\n",
        "    encoded_sentence.extend([vocab['<PAD>']]*int(max_length-len(encoded_sentence)))\n",
        "  return encoded_sentence"
      ],
      "metadata": {
        "id": "JzAkar7cPTGQ"
      },
      "execution_count": 18,
      "outputs": []
    },
    {
      "cell_type": "code",
      "source": [
        "def encode_english_sentence(sentence,vocab,max_length):\n",
        "  max_length=int(max_length)+2\n",
        "  encoded_sentence=[vocab['<BOS>']]\n",
        "  for word in sentence:\n",
        "    if word in vocab:\n",
        "      encoded_sentence.append(vocab[word])\n",
        "    else:\n",
        "      encoded_sentence.append(vocab['<UNK>'])\n",
        "  encoded_sentence.append(vocab['<EOS>'])\n",
        "  encoded_sentence=encoded_sentence[:max_length]\n",
        "  if len(encoded_sentence)<max_length:\n",
        "    encoded_sentence.extend([vocab['<PAD>']]*int(max_length-len(encoded_sentence)))\n",
        "  return encoded_sentence"
      ],
      "metadata": {
        "id": "R0KlU9_ppd_G"
      },
      "execution_count": 19,
      "outputs": []
    },
    {
      "cell_type": "code",
      "source": [
        "train_input_encoded=[encode_arabic_sentence(sentence,arabic_vocab,arabic_length) for sentence in train_input]\n",
        "train_target_encoded=[encode_english_sentence(sentence,english_vocab,english_length) for sentence in train_target]\n",
        "\n",
        "val_input_encoded=[encode_arabic_sentence(sentence,arabic_vocab,arabic_length) for sentence in val_input]\n",
        "val_target_encoded=[encode_english_sentence(sentence,english_vocab,english_length) for sentence in val_target]\n",
        "\n",
        "test_input_encoded=[encode_arabic_sentence(sentence,arabic_vocab,arabic_length) for sentence in test_input]\n",
        "test_target_encoded=[encode_english_sentence(sentence,english_vocab,english_length) for sentence in test_target]"
      ],
      "metadata": {
        "id": "JPWPkJRRu1bW"
      },
      "execution_count": 20,
      "outputs": []
    },
    {
      "cell_type": "code",
      "source": [
        "# convert to tensors\n",
        "train_input_tensor=torch.tensor(train_input_encoded,dtype=torch.long)\n",
        "train_target_tensor=torch.tensor(train_target_encoded,dtype=torch.long)\n",
        "\n",
        "val_input_tensor=torch.tensor(val_input_encoded,dtype=torch.long)\n",
        "val_target_tensor=torch.tensor(val_target_encoded,dtype=torch.long)\n",
        "\n",
        "test_input_tensor=torch.tensor(test_input_encoded,dtype=torch.long)\n",
        "test_target_tensor=torch.tensor(test_target_encoded,dtype=torch.long)"
      ],
      "metadata": {
        "id": "i4GO-Qkgwmcw"
      },
      "execution_count": 21,
      "outputs": []
    },
    {
      "cell_type": "code",
      "source": [
        "print(train_input_tensor.shape)\n",
        "print(train_target_tensor.shape)\n",
        "print(train_input_tensor[0])\n",
        "print(train_target_tensor[0])"
      ],
      "metadata": {
        "colab": {
          "base_uri": "https://localhost:8080/"
        },
        "id": "Fh84IpHyxiz7",
        "outputId": "fdfd3f1d-4576-4598-8774-1b7d3a27e814"
      },
      "execution_count": 22,
      "outputs": [
        {
          "output_type": "stream",
          "name": "stdout",
          "text": [
            "torch.Size([22324, 10])\n",
            "torch.Size([22324, 14])\n",
            "tensor([  13,  806,   14, 8455,    0,    0,    0,    0,    0,    0])\n",
            "tensor([  2,  24,   7,  96,  31,   6, 491,   3,   0,   0,   0,   0,   0,   0])\n"
          ]
        }
      ]
    },
    {
      "cell_type": "markdown",
      "source": [
        "## DataLoader Preparation"
      ],
      "metadata": {
        "id": "W1W7IxXXzKd0"
      }
    },
    {
      "cell_type": "code",
      "source": [
        "class translationDataset(Dataset):\n",
        "  def __init__(self,input,target):\n",
        "    self.input=input\n",
        "    self.target=target\n",
        "  def __len__(self):\n",
        "    return len(self.input)\n",
        "  def __getitem__(self, index):\n",
        "      return self.input[index], self.target[index]"
      ],
      "metadata": {
        "id": "F8jibFEtzAJq"
      },
      "execution_count": 23,
      "outputs": []
    },
    {
      "cell_type": "code",
      "source": [
        "train_dataset=translationDataset(train_input_tensor,train_target_tensor)\n",
        "val_dataset=translationDataset(val_input_tensor,val_target_tensor)\n",
        "test_dataset=translationDataset(test_input_tensor,test_target_tensor)\n",
        "\n",
        "train_loader=DataLoader(train_dataset,batch_size=16,shuffle=True)\n",
        "val_loader=DataLoader(val_dataset,batch_size=16,shuffle=False)\n",
        "test_loader=DataLoader(test_dataset,batch_size=16,shuffle=False)\n"
      ],
      "metadata": {
        "id": "KQxYjqYG1swJ"
      },
      "execution_count": 24,
      "outputs": []
    },
    {
      "cell_type": "code",
      "source": [
        "batch_input,batch_target=next(iter(train_loader))\n",
        "print(batch_input.shape)\n",
        "print(batch_target.shape)\n",
        "print(batch_input[0:3])\n",
        "print(batch_target[0:3])"
      ],
      "metadata": {
        "colab": {
          "base_uri": "https://localhost:8080/"
        },
        "id": "hDZDTB5Z7p9O",
        "outputId": "9aa2b518-e238-4a86-9035-14dce798b1e0"
      },
      "execution_count": 25,
      "outputs": [
        {
          "output_type": "stream",
          "name": "stdout",
          "text": [
            "torch.Size([16, 10])\n",
            "torch.Size([16, 14])\n",
            "tensor([[3360, 1687,    0,    0,    0,    0,    0,    0,    0,    0],\n",
            "        [   5,    0,    0,    0,    0,    0,    0,    0,    0,    0],\n",
            "        [   9,   19, 1235,    0,    0,    0,    0,    0,    0,    0]])\n",
            "tensor([[   2,    4, 2835,   25,  524,    3,    0,    0,    0,    0,    0,    0,\n",
            "            0,    0],\n",
            "        [   2,   75,    3,    0,    0,    0,    0,    0,    0,    0,    0,    0,\n",
            "            0,    0],\n",
            "        [   2,  401,  281,    3,    0,    0,    0,    0,    0,    0,    0,    0,\n",
            "            0,    0]])\n"
          ]
        }
      ]
    },
    {
      "cell_type": "code",
      "source": [
        "print(len(train_loader))\n",
        "print(len(val_loader))\n",
        "print(len(test_loader))"
      ],
      "metadata": {
        "colab": {
          "base_uri": "https://localhost:8080/"
        },
        "id": "23hfXRpA2MMR",
        "outputId": "facbabae-3e7e-48e6-9770-28bc993bbbd8"
      },
      "execution_count": 26,
      "outputs": [
        {
          "output_type": "stream",
          "name": "stdout",
          "text": [
            "1396\n",
            "175\n",
            "175\n"
          ]
        }
      ]
    },
    {
      "cell_type": "markdown",
      "source": [
        "## network architecture"
      ],
      "metadata": {
        "id": "muvBb3Z02kTB"
      }
    },
    {
      "cell_type": "code",
      "source": [
        "class Encoder(nn.Module):\n",
        "  def __init__(self,vocab_size,embedding_dim,hidden_dim,n_layers,dropout):\n",
        "    super().__init__()\n",
        "    self.embedding=nn.Embedding(vocab_size,embedding_dim)\n",
        "    self.lstm=nn.LSTM(embedding_dim,hidden_dim,n_layers,dropout=dropout,batch_first=True)\n",
        "  def forward(self,x):\n",
        "    x=self.embedding(x)\n",
        "    output,(hidden,cell)=self.lstm(x)\n",
        "    return hidden,cell"
      ],
      "metadata": {
        "id": "P6TI3hxs2UeE"
      },
      "execution_count": 84,
      "outputs": []
    },
    {
      "cell_type": "code",
      "source": [
        "class decoder(nn.Module):\n",
        "  def __init__(self,output_dim,embedding_dim,hidden_dim,n_layers,dropout):\n",
        "    super().__init__()\n",
        "    self.output_dim=output_dim\n",
        "    self.embedding=nn.Embedding(output_dim,embedding_dim)\n",
        "    self.lstm=nn.LSTM(embedding_dim,hidden_dim,n_layers,dropout=dropout,batch_first=True)\n",
        "    self.fc=nn.Linear(hidden_dim,output_dim)\n",
        "  def forward(self,x,hidden,cell):\n",
        "    x=x.unsqueeze(1)\n",
        "    x=self.embedding(x)\n",
        "    output,(hidden,cell)=self.lstm(x,(hidden,cell))\n",
        "    prediction=self.fc(output.squeeze(1))\n",
        "    return prediction,hidden,cell\n"
      ],
      "metadata": {
        "id": "GntpK_lwSjkD"
      },
      "execution_count": 85,
      "outputs": []
    },
    {
      "cell_type": "code",
      "source": [
        "class TranslationModel(nn.Module):\n",
        "  def __init__(self,encoder,decoder,device):\n",
        "    super().__init__()\n",
        "    self.encoder=encoder\n",
        "    self.decoder=decoder\n",
        "    self.device=device\n",
        "  def forward(self,input,target,teacher_forcing_ratio=0.5):\n",
        "    batch_size=input.shape[0]\n",
        "    target_len=target.shape[1]\n",
        "    target_vocab_size=self.decoder.output_dim\n",
        "    outputs=torch.zeros(batch_size,target_len,target_vocab_size).to(self.device)\n",
        "    hidden,cell=self.encoder(input)\n",
        "    x=target[:,0]\n",
        "    for t in range(1,target_len):\n",
        "      output,hidden,cell=self.decoder(x,hidden,cell)\n",
        "      outputs[:,t]=output\n",
        "      teach_force=random.random()<teacher_forcing_ratio\n",
        "      top1=output.argmax(1)\n",
        "      x=target[:,t] if teach_force else top1\n",
        "    return outputs\n"
      ],
      "metadata": {
        "id": "41iA44eHfZpQ"
      },
      "execution_count": 86,
      "outputs": []
    },
    {
      "cell_type": "code",
      "source": [
        "device=torch.device('cuda' if torch.cuda.is_available() else 'cpu')"
      ],
      "metadata": {
        "id": "NHNqwLELGd4f"
      },
      "execution_count": 87,
      "outputs": []
    },
    {
      "cell_type": "markdown",
      "source": [
        "## Training & Evaluation"
      ],
      "metadata": {
        "id": "xu2cYmizCq1l"
      }
    },
    {
      "cell_type": "code",
      "source": [
        "def train(model,data_loader,optimizer,criterion,device,teach_force=0.5):\n",
        "  model.train()\n",
        "  epoch_loss=0\n",
        "  for batch_input,batch_target in tqdm(data_loader):\n",
        "    batch_input=batch_input.to(device)\n",
        "    batch_target=batch_target.to(device)\n",
        "    optimizer.zero_grad()\n",
        "    output=model(batch_input,batch_target,teach_force)\n",
        "    #print(\"Max index in input batch:\", batch_input.max().item())\n",
        "    #print(\"Embedding input_dim:\", model.encoder.embedding.num_embeddings)\n",
        "    output_dim=output.shape[-1]\n",
        "    output=output[:,1:].reshape(-1,output_dim)\n",
        "    batch_target=batch_target[:,1:].reshape(-1)\n",
        "    loss=criterion(output,batch_target)\n",
        "    loss.backward()\n",
        "    optimizer.step()\n",
        "    epoch_loss+=loss.item()\n",
        "  return epoch_loss/len(data_loader)\n"
      ],
      "metadata": {
        "id": "6wQ8IG5BCX8l"
      },
      "execution_count": 88,
      "outputs": []
    },
    {
      "cell_type": "code",
      "source": [
        "def evaluate(model,data_loader,criterion,device,input_vocab,target_vocab,reverse_vocab):\n",
        "  model.eval()\n",
        "  epoch_loss=0\n",
        "  all_reference=[]\n",
        "  all_candidate=[]\n",
        "  with torch.no_grad():\n",
        "    for batch_input,batch_target in tqdm(data_loader):\n",
        "      batch_input=batch_input.to(device)\n",
        "      batch_target=batch_target.to(device)\n",
        "      output=model(batch_input,batch_target,0)\n",
        "      output_dim=output.shape[-1]\n",
        "      output=output[:,1:]\n",
        "      batch_target=batch_target[:,1:]\n",
        "      loss=criterion(output.reshape(-1,output_dim),batch_target.reshape(-1))\n",
        "      epoch_loss+=loss.item()\n",
        "      pred_tokens=output.argmax(-1)\n",
        "      for i in range(batch_target.size(0)):\n",
        "        reference = [reverse_vocab[token] for token in batch_target[i].tolist() if token != english_vocab['<PAD>']]\n",
        "        candidate = [reverse_vocab[token] for token in pred_tokens[i].tolist() if token != english_vocab['<PAD>']]\n",
        "        all_reference.append(reference)\n",
        "        all_candidate.append(candidate)\n",
        "\n",
        "  bleu_score=corpus_bleu(all_reference,all_candidate)\n",
        "  return epoch_loss/len(data_loader),bleu_score"
      ],
      "metadata": {
        "id": "A2EIkZJRPQmq"
      },
      "execution_count": 89,
      "outputs": []
    },
    {
      "cell_type": "code",
      "source": [
        "input_dim=len(arabic_vocab)\n",
        "output_dim=len(english_vocab)\n",
        "embedding_dim=256\n",
        "hidden_dim=512\n",
        "n_layers=2\n",
        "dropout=0.5\n",
        "encoder=Encoder(input_dim,embedding_dim,hidden_dim,n_layers,dropout)\n",
        "decoder=decoder(output_dim,embedding_dim,hidden_dim,n_layers,dropout)\n",
        "model=TranslationModel(encoder,decoder,device).to(device)\n",
        "optimizer=torch.optim.Adam(model.parameters())\n",
        "criterion=nn.CrossEntropyLoss(ignore_index=english_vocab['<PAD>'])\n"
      ],
      "metadata": {
        "id": "3xFjYQVpPwbJ"
      },
      "execution_count": 90,
      "outputs": []
    },
    {
      "cell_type": "code",
      "source": [
        "reverse_vocab={idx:word for word,idx in english_vocab.items()}"
      ],
      "metadata": {
        "id": "yfTlwuEafjDq"
      },
      "execution_count": 91,
      "outputs": []
    },
    {
      "cell_type": "code",
      "source": [
        "num_epoch=10\n",
        "for epoch in range(num_epoch):\n",
        "  train_loss=train(model,train_loader,optimizer,criterion,device)\n",
        "  val_loss,val_score=evaluate(model,val_loader,criterion,device,arabic_vocab,english_vocab,reverse_vocab)\n",
        "  print(f'Epoch: {epoch+1}/{num_epoch}: Train Loss: {train_loss:.4f}, Val Loss: {val_loss:.4f}, BLEU Score: {val_score:.4f}')\n",
        "\n"
      ],
      "metadata": {
        "colab": {
          "base_uri": "https://localhost:8080/"
        },
        "id": "b6KDKbOJRVb-",
        "outputId": "4b5e3c11-f768-4519-b00d-4668e498fc9a"
      },
      "execution_count": null,
      "outputs": [
        {
          "output_type": "stream",
          "name": "stderr",
          "text": [
            "100%|██████████| 1396/1396 [00:50<00:00, 27.40it/s]\n",
            "100%|██████████| 175/175 [00:01<00:00, 96.06it/s]\n"
          ]
        },
        {
          "output_type": "stream",
          "name": "stdout",
          "text": [
            "Epoch: 1/10: Train Loss: 5.4232, Val Loss: 5.1151, BLEU Score: 0.0000\n"
          ]
        },
        {
          "output_type": "stream",
          "name": "stderr",
          "text": [
            "100%|██████████| 1396/1396 [00:50<00:00, 27.88it/s]\n",
            "100%|██████████| 175/175 [00:01<00:00, 101.85it/s]\n"
          ]
        },
        {
          "output_type": "stream",
          "name": "stdout",
          "text": [
            "Epoch: 2/10: Train Loss: 4.6283, Val Loss: 4.8153, BLEU Score: 0.0000\n"
          ]
        },
        {
          "output_type": "stream",
          "name": "stderr",
          "text": [
            "100%|██████████| 1396/1396 [00:50<00:00, 27.75it/s]\n",
            "100%|██████████| 175/175 [00:01<00:00, 101.41it/s]\n"
          ]
        },
        {
          "output_type": "stream",
          "name": "stdout",
          "text": [
            "Epoch: 3/10: Train Loss: 4.1461, Val Loss: 4.6549, BLEU Score: 0.0000\n"
          ]
        },
        {
          "output_type": "stream",
          "name": "stderr",
          "text": [
            " 22%|██▏       | 308/1396 [00:11<00:35, 30.44it/s]"
          ]
        }
      ]
    },
    {
      "cell_type": "code",
      "source": [
        "plt.plot(train_loss,label='train_loss')\n",
        "plt.plot(val_loss,label='val_loss')\n",
        "plt.legend()\n",
        "plt.show()"
      ],
      "metadata": {
        "id": "U029Fp2BW-M8"
      },
      "execution_count": null,
      "outputs": []
    },
    {
      "cell_type": "code",
      "source": [
        "test_loss,test_score=evaluate(model,test_loader,criterion,device,arabic_vocab,english_vocab,reverse_vocab)\n",
        "print(f'Test Loss: {test_loss:.4f}, BLEU Score: {test_score:.4f}')"
      ],
      "metadata": {
        "id": "3lqfLCx0Rq81"
      },
      "execution_count": null,
      "outputs": []
    }
  ]
}